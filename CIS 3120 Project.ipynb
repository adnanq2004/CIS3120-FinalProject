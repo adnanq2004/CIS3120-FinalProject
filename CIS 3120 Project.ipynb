{
 "cells": [
  {
   "cell_type": "markdown",
   "id": "dedcefa6",
   "metadata": {},
   "source": [
    "# Project Proposal\n",
    "\n",
    "For this assignment, I plan to use one of two API's.\n",
    "\n",
    "The first API is called \"Hyrule-Compendium-API\", and it has information about every item and enemy type in the game Legend of Zelda Breath of the Wild. I plan to make a parent class called \"Items\", and then children classes for \"Food\", \"Ingredients\", \"Weapons\". The parent class will likely have variables like game_id, and a function to return an in game image, or a location that they can be found, both of which is information that should be available in the API. The children could have information about special effects, price, weapon and durability stats, etc. \n",
    "\n",
    "However, when reading through the documenation of this API, there was a notice that this API might have been recently made unavailable. However, there was also a recommendation for for using a newer version of the API, but I haven't been successful in accessing it. \n",
    "\n",
    "The below is a link to the API.\n",
    "https://github.com/gadhagod/Hyrule-Compendium-API\n",
    "\n",
    "\n",
    "####\n",
    "\n",
    "\n",
    "####\n",
    "\n",
    "\n",
    "The second API is an API that stores various information for the game Monster Hunter World. I plan to use the information about the weapon types, making a parent class Weapon that stores broad information about attack power or weapon tier or special effects, then a child class for every weapon type. Depending on the weapon type, they could store more information, like Bows, which could store information about what damage types they're compatible with, or for Swords, how much sharpness they have by default, etc.\n",
    "\n",
    "Below is the link for the API's documentation.\n",
    "https://mhw-db.com/"
   ]
  },
  {
   "cell_type": "code",
   "execution_count": 5,
   "id": "0284cf10",
   "metadata": {},
   "outputs": [],
   "source": [
    "#from API_key import api_key\n",
    "import requests\n",
    "import pandas as pd\n",
    "\n",
    "from matplotlib import pyplot as plt"
   ]
  },
  {
   "cell_type": "code",
   "execution_count": null,
   "id": "7c58badc",
   "metadata": {},
   "outputs": [],
   "source": []
  }
 ],
 "metadata": {
  "kernelspec": {
   "display_name": "Python 3 (ipykernel)",
   "language": "python",
   "name": "python3"
  },
  "language_info": {
   "codemirror_mode": {
    "name": "ipython",
    "version": 3
   },
   "file_extension": ".py",
   "mimetype": "text/x-python",
   "name": "python",
   "nbconvert_exporter": "python",
   "pygments_lexer": "ipython3",
   "version": "3.11.5"
  }
 },
 "nbformat": 4,
 "nbformat_minor": 5
}
